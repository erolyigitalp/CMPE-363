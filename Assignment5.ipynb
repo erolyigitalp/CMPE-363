{
  "nbformat": 4,
  "nbformat_minor": 0,
  "metadata": {
    "colab": {
      "name": "Assignment5.ipynb",
      "provenance": []
    },
    "kernelspec": {
      "name": "python3",
      "display_name": "Python 3"
    }
  },
  "cells": [
    {
      "cell_type": "code",
      "metadata": {
        "id": "1jgQ6Kb08uhA"
      },
      "source": [
        "import pandas as pd\n"
      ],
      "execution_count": 2,
      "outputs": []
    },
    {
      "cell_type": "code",
      "metadata": {
        "id": "JiYDKseX9CMz"
      },
      "source": [
        "\n",
        "with open('Assignment5.html', 'w') as site:\n",
        "    site.write('<html>')\n",
        "    \n",
        "    site.write('<head>')\n",
        "    site.write('<title> Assignment5 </title>')\n",
        "    site.write('/<head>')\n",
        "    \n",
        "    site.write('<div>')\n",
        "    site.write('<h1>The group members: </h1>');\n",
        "    site.write('<p>Ali Beyaz 113200050</p>');\n",
        "    site.write('<p>Erol Yiğitalp 116200025</p>');\n",
        "    site.write('<p>Utku Emecan 114200015</p>');\n",
        "    site.write('</div>')\n",
        "    \n",
        "    site.write('<table>')\n",
        "    \n",
        "    file = pd.read_csv(\"/content/customer-top100.csv\") \n",
        "    html_table = file.to_html() \n",
        "    site.write(html_table)\n",
        "   \n",
        "\n",
        "    site.write('</tr>')\n",
        "    site.write('</table>')\n",
        "    site.write('</body>')\n",
        "    site.write('</html>')"
      ],
      "execution_count": 5,
      "outputs": []
    }
  ]
}